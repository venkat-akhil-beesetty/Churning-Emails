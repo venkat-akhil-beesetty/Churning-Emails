{
 "metadata": {
  "language_info": {
   "codemirror_mode": {
    "name": "ipython",
    "version": 3
   },
   "file_extension": ".py",
   "mimetype": "text/x-python",
   "name": "python",
   "nbconvert_exporter": "python",
   "pygments_lexer": "ipython3",
   "version": "3.8.5"
  },
  "orig_nbformat": 2,
  "kernelspec": {
   "name": "python385jvsc74a57bd00b61e2de9910e55baac36a93345e58c9474d42a3ea33512e01fd067e2d370c71",
   "display_name": "Python 3.8.5 64-bit ('tensorflow': conda)"
  }
 },
 "nbformat": 4,
 "nbformat_minor": 2,
 "cells": [
  {
   "source": [
    "# Churn Emails\n",
    "\n",
    "We have a text file which records mail activity from various individuals in an open source project development team"
   ],
   "cell_type": "markdown",
   "metadata": {}
  },
  {
   "source": [
    "### Loading the dataset"
   ],
   "cell_type": "markdown",
   "metadata": {}
  },
  {
   "cell_type": "code",
   "execution_count": 1,
   "metadata": {},
   "outputs": [],
   "source": [
    "file='mbox-short.txt'"
   ]
  },
  {
   "source": [
    "## 1. Counting the Number of lines"
   ],
   "cell_type": "markdown",
   "metadata": {}
  },
  {
   "cell_type": "code",
   "execution_count": 2,
   "metadata": {},
   "outputs": [],
   "source": [
    "def number_of_lines():\n",
    "    fhand=open(file)\n",
    "    lines=fhand.read()\n",
    "    count=0\n",
    "    for line in lines:\n",
    "        if line=='\\n':\n",
    "            count+=1\n",
    "    return count"
   ]
  },
  {
   "cell_type": "code",
   "execution_count": 3,
   "metadata": {},
   "outputs": [
    {
     "output_type": "stream",
     "name": "stdout",
     "text": [
      "There are '1910' lines in text file.\n"
     ]
    }
   ],
   "source": [
    "result1=number_of_lines()\n",
    "print(\"There are '{}' lines in text file.\".format(result1))"
   ]
  },
  {
   "source": [
    "## 2. Count the number of Subject lines"
   ],
   "cell_type": "markdown",
   "metadata": {}
  },
  {
   "cell_type": "code",
   "execution_count": 4,
   "metadata": {},
   "outputs": [],
   "source": [
    "def count_number_of_lines():\n",
    "    fhand=open(file)\n",
    "    count=0\n",
    "    for line in fhand:\n",
    "        line=line.rstrip()\n",
    "\n",
    "        if line.startswith('Subject:'):\n",
    "            count+=1\n",
    "    return count"
   ]
  },
  {
   "cell_type": "code",
   "execution_count": 5,
   "metadata": {},
   "outputs": [
    {
     "output_type": "stream",
     "name": "stdout",
     "text": [
      "There are '27' subject lines in text file.\n"
     ]
    }
   ],
   "source": [
    "print(\"There are '{}' subject lines in text file.\".format(count_number_of_lines()))"
   ]
  },
  {
   "source": [
    "## 3. Find Average Spam Confidence"
   ],
   "cell_type": "markdown",
   "metadata": {}
  },
  {
   "cell_type": "code",
   "execution_count": 6,
   "metadata": {},
   "outputs": [],
   "source": [
    "def average_spam_confidence():\n",
    "    fhand=open(file)\n",
    "    sum=0\n",
    "    count=0\n",
    "    for line in fhand:\n",
    "        line=line.rstrip()\n",
    "        if line.startswith('X-DSPAM-Confidence'):\n",
    "            var, val=line.split(':')\n",
    "            sum+=float(val)\n",
    "            count+=1\n",
    "    average=float(sum/count)\n",
    "    return average"
   ]
  },
  {
   "cell_type": "code",
   "execution_count": 7,
   "metadata": {},
   "outputs": [
    {
     "output_type": "stream",
     "name": "stdout",
     "text": [
      "Spam Confidence is: 0.7507185185185187\n"
     ]
    }
   ],
   "source": [
    "print(\"Spam Confidence is: {}\".format(average_spam_confidence()))"
   ]
  },
  {
   "source": [
    "## 4. Which days of the week the email was sent"
   ],
   "cell_type": "markdown",
   "metadata": {}
  },
  {
   "cell_type": "code",
   "execution_count": 8,
   "metadata": {},
   "outputs": [],
   "source": [
    "def find_email_sent_days():\n",
    "    fhand=open(file)\n",
    "    daysdict={}\n",
    "    dayslist=[]\n",
    "    for line in fhand:\n",
    "        dayslist=line.split()\n",
    "        if len(dayslist)>3 and line.startswith(\"From\"):\n",
    "            day=dayslist[2]\n",
    "            if day not in daysdict:\n",
    "                daysdict[day]=1\n",
    "            else:\n",
    "                daysdict[day]+=1\n",
    "    return daysdict"
   ]
  },
  {
   "cell_type": "code",
   "execution_count": 9,
   "metadata": {},
   "outputs": [
    {
     "output_type": "execute_result",
     "data": {
      "text/plain": [
       "{'Sat': 1, 'Fri': 20, 'Thu': 6}"
      ]
     },
     "metadata": {},
     "execution_count": 9
    }
   ],
   "source": [
    "find_email_sent_days()"
   ]
  },
  {
   "source": [
    "## 5. Counting messages from each E-mail"
   ],
   "cell_type": "markdown",
   "metadata": {}
  },
  {
   "cell_type": "code",
   "execution_count": 10,
   "metadata": {},
   "outputs": [],
   "source": [
    "def count_message_from_email():\n",
    "    fhand=open(file)\n",
    "    emaildict={}\n",
    "    emaillist=[]\n",
    "    for line in fhand:\n",
    "        emaillist=line.split()\n",
    "        if len(emaillist)>3 and line.startswith(\"From\"):\n",
    "            email=emaillist[1]\n",
    "            if email not in emaildict:\n",
    "                emaildict[email]=1\n",
    "            else:\n",
    "                emaildict[email]+=1\n",
    "    return emaildict"
   ]
  },
  {
   "cell_type": "code",
   "execution_count": 11,
   "metadata": {},
   "outputs": [
    {
     "output_type": "execute_result",
     "data": {
      "text/plain": [
       "{'stephen.marquard@uct.ac.za': 2,\n",
       " 'louis@media.berkeley.edu': 3,\n",
       " 'zqian@umich.edu': 4,\n",
       " 'rjlowe@iupui.edu': 2,\n",
       " 'cwen@iupui.edu': 5,\n",
       " 'gsilver@umich.edu': 3,\n",
       " 'wagnermr@iupui.edu': 1,\n",
       " 'antranig@caret.cam.ac.uk': 1,\n",
       " 'gopal.ramasammycook@gmail.com': 1,\n",
       " 'david.horwitz@uct.ac.za': 4,\n",
       " 'ray@media.berkeley.edu': 1}"
      ]
     },
     "metadata": {},
     "execution_count": 11
    }
   ],
   "source": [
    "count_message_from_email()"
   ]
  },
  {
   "source": [
    "## 6. Counting messages from each domain"
   ],
   "cell_type": "markdown",
   "metadata": {}
  },
  {
   "cell_type": "code",
   "execution_count": 12,
   "metadata": {},
   "outputs": [],
   "source": [
    "def count_message_from_domain():\n",
    "    fhand=open(file)\n",
    "    domaindict={}\n",
    "    domainlist=[]\n",
    "    for line in fhand:\n",
    "        domainlist=line.split()\n",
    "        if len(domainlist)>3 and line.startswith(\"From\"):\n",
    "            email_domain=domainlist[1]\n",
    "            domain=email_domain.split('@')[1]\n",
    "            if domain not in domaindict:\n",
    "                domaindict[domain]=1\n",
    "            else:\n",
    "                domaindict[domain]+=1\n",
    "    return domaindict"
   ]
  },
  {
   "cell_type": "code",
   "execution_count": 13,
   "metadata": {},
   "outputs": [
    {
     "output_type": "execute_result",
     "data": {
      "text/plain": [
       "{'uct.ac.za': 6,\n",
       " 'media.berkeley.edu': 4,\n",
       " 'umich.edu': 7,\n",
       " 'iupui.edu': 8,\n",
       " 'caret.cam.ac.uk': 1,\n",
       " 'gmail.com': 1}"
      ]
     },
     "metadata": {},
     "execution_count": 13
    }
   ],
   "source": [
    "count_message_from_domain()"
   ]
  }
 ]
}